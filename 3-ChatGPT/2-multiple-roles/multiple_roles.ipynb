{
 "cells": [
  {
   "cell_type": "markdown",
   "metadata": {},
   "source": [
    "## Multiple Roles\n",
    "\n",
    "Assign an **LLM** a role and it tends to behave according to that role, the role can be wither of doctor, poet or anything. This role defines the nature of the output."
   ]
  },
  {
   "cell_type": "markdown",
   "metadata": {},
   "source": [
    "## Making an API request"
   ]
  },
  {
   "cell_type": "code",
   "execution_count": 2,
   "metadata": {},
   "outputs": [],
   "source": [
    "from openai import OpenAI\n",
    "from dotenv import load_dotenv, find_dotenv\n",
    "\n",
    "_: bool = load_dotenv(find_dotenv())  # read local .env file\n",
    "\n",
    "client: OpenAI = OpenAI()"
   ]
  },
  {
   "cell_type": "code",
   "execution_count": 5,
   "metadata": {},
   "outputs": [
    {
     "name": "stdout",
     "output_type": "stream",
     "text": [
      "In the land of code, mysterious and vast,\n",
      "Lies a concept that echoes from the past.\n",
      "Recursion, they call it, a wondrous art,\n",
      "A magical loop that plays a clever part.\n",
      "\n",
      "Like a mirror reflecting its own reflection,\n",
      "Recursion calls upon itself without hesitation.\n",
      "A function, it recurs, with steps repeated,\n",
      "Until a base case is finally conceded.\n",
      "\n",
      "It's like a Russian doll, nested within,\n",
      "Unraveling layers, it can easily spin.\n",
      "Each call adds a layer to the grand design,\n",
      "Until the process reaches the base and does resign.\n",
      "\n",
      "With elegance and grace, it solves problems dire,\n",
      "Divide and conquer, it never does tire.\n",
      "Like a dance of algorithms, in a rhythm so fine,\n",
      "Recursion weaves patterns, in a mystical line.\n",
      "\n",
      "So remember, dear coder, in your code design,\n",
      "When problems feel tangled, in a complex sign,\n",
      "Recursion may whisper, with a magical clue,\n",
      "To loop within itself, and solve puzzles anew.\n"
     ]
    }
   ],
   "source": [
    "from openai.types.chat.chat_completion import ChatCompletion\n",
    "\n",
    "\n",
    "def chat_completion() -> str:\n",
    "    completion: ChatCompletion = client.chat.completions.create(\n",
    "        model=\"gpt-3.5-turbo-1106\",\n",
    "        messages=[\n",
    "            {\n",
    "                \"role\": \"system\",\n",
    "                \"content\": \"You are a poetic assistant, skilled in explaining complex programming concepts with creative flair.\",\n",
    "            },\n",
    "            {\n",
    "                \"role\": \"user\",\n",
    "                \"content\": \"Compose a poem that explains the concept of recursion in programming.\",\n",
    "            },\n",
    "        ],\n",
    "    )\n",
    "\n",
    "    return completion.choices[0].message.content\n",
    "\n",
    "\n",
    "print(chat_completion())"
   ]
  }
 ],
 "metadata": {
  "kernelspec": {
   "display_name": "py311",
   "language": "python",
   "name": "python3"
  },
  "language_info": {
   "codemirror_mode": {
    "name": "ipython",
    "version": 3
   },
   "file_extension": ".py",
   "mimetype": "text/x-python",
   "name": "python",
   "nbconvert_exporter": "python",
   "pygments_lexer": "ipython3",
   "version": "3.12.0"
  },
  "orig_nbformat": 4
 },
 "nbformat": 4,
 "nbformat_minor": 2
}
