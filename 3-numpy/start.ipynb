{
 "cells": [
  {
   "cell_type": "markdown",
   "metadata": {},
   "source": [
    "# Numpy"
   ]
  },
  {
   "cell_type": "code",
   "execution_count": 12,
   "metadata": {},
   "outputs": [
    {
     "data": {
      "text/plain": [
       "array(1000)"
      ]
     },
     "metadata": {},
     "output_type": "display_data"
    },
    {
     "data": {
      "text/plain": [
       "'Shape of the array ()'"
      ]
     },
     "metadata": {},
     "output_type": "display_data"
    },
    {
     "data": {
      "text/plain": [
       "'Size of the array 1'"
      ]
     },
     "metadata": {},
     "output_type": "display_data"
    },
    {
     "data": {
      "text/plain": [
       "'Number of Dimensions 0'"
      ]
     },
     "metadata": {},
     "output_type": "display_data"
    },
    {
     "data": {
      "text/plain": [
       "'Data type of the array int32'"
      ]
     },
     "metadata": {},
     "output_type": "display_data"
    },
    {
     "data": {
      "text/plain": [
       "'No. of items in the array 4'"
      ]
     },
     "metadata": {},
     "output_type": "display_data"
    }
   ],
   "source": [
    "import numpy as np\n",
    "\n",
    "arr : np.ndarray = np.array(1000)\n",
    "\n",
    "display(arr)\n",
    "display(f\"Shape of the array {arr.shape}\")\n",
    "display(f\"Size of the array {arr.size}\")\n",
    "display(f\"Number of Dimensions {arr.ndim}\")\n",
    "display(f\"Data type of the array {arr.dtype}\")\n",
    "display(f\"No. of items in the array {arr.itemsize}\")"
   ]
  },
  {
   "cell_type": "markdown",
   "metadata": {},
   "source": [
    "## Vectors"
   ]
  },
  {
   "cell_type": "code",
   "execution_count": 1,
   "metadata": {},
   "outputs": [
    {
     "data": {
      "text/plain": [
       "5.125"
      ]
     },
     "metadata": {},
     "output_type": "display_data"
    },
    {
     "data": {
      "text/plain": [
       "12"
      ]
     },
     "metadata": {},
     "output_type": "display_data"
    }
   ],
   "source": [
    "arr : np.ndarray = np.array([1, 2, 3, 4, 5,12,8,6])\n",
    "\n",
    "# Perform mathematical operations on arrays\n",
    "arr2 : np.ndarray = arr + 5  # Add 5 to each element of the array 'arr'\n",
    "arr3 : np.ndarray = np.sin(arr) # Calculate the sine of each element of the array 'arr'\n",
    "\n",
    "# Perform array operations\n",
    "arr4 : np.ndarray = np.concatenate((arr, arr2))  # Concatenate 'arr' and 'arr2' to create a new array\n",
    "\n",
    "# Perform array computations\n",
    "mean = display(np.mean(arr))  # Calculate the mean (average) of the elements in 'arr'\n",
    "max_value = display(np.max(arr))  # Find the maximum value in 'arr'\n"
   ]
  },
  {
   "cell_type": "markdown",
   "metadata": {},
   "source": [
    "\n",
    "### Explanation\n",
    "\n",
    "In the first code snippet, we import the NumPy library as `np` and create a NumPy array called `arr` with the elements `[1, 2, 3, 4, 5]`. We then perform several operations on this array:\n",
    "\n",
    "1. `arr2` is created by adding 5 to each element of `arr`.\n",
    "2. `arr3` is created by calculating the sine of each element in `arr`.\n",
    "3. `arr4` is created by concatenating `arr` and `arr2`.\n",
    "\n",
    "Additionally, we perform some array computations:\n",
    "\n",
    "- We calculate the mean (average) of the elements in `arr` and store it in the variable `mean`.\n",
    "- We find the maximum value in `arr` and store it in the variable `max_value`.\n",
    "\n"
   ]
  },
  {
   "cell_type": "code",
   "execution_count": 2,
   "metadata": {},
   "outputs": [
    {
     "name": "stdout",
     "output_type": "stream",
     "text": [
      "[1 2 3 4 5]\n"
     ]
    },
    {
     "data": {
      "text/plain": [
       "array([1, 2, 3, 4, 5])"
      ]
     },
     "metadata": {},
     "output_type": "display_data"
    },
    {
     "data": {
      "text/plain": [
       "(5,)"
      ]
     },
     "metadata": {},
     "output_type": "display_data"
    },
    {
     "data": {
      "text/plain": [
       "dtype('int32')"
      ]
     },
     "metadata": {},
     "output_type": "display_data"
    },
    {
     "data": {
      "text/plain": [
       "1"
      ]
     },
     "metadata": {},
     "output_type": "display_data"
    },
    {
     "data": {
      "text/plain": [
       "5"
      ]
     },
     "metadata": {},
     "output_type": "display_data"
    },
    {
     "data": {
      "text/plain": [
       "4"
      ]
     },
     "metadata": {},
     "output_type": "display_data"
    }
   ],
   "source": [
    "import numpy as np\n",
    "\n",
    "arr: np.ndarray = np.array([1, 2, 3, 4, 5])\n",
    "print(arr)\n",
    "\n",
    "display(arr)  # prints the array\n",
    "display(arr.shape)  # prints the shape of the array\n",
    "display(arr.dtype)  # prints the datatype of the array\n",
    "display(arr.ndim)  # prints the number of dimensions of the array\n",
    "display(arr.size)  # prints the number of elements in the array\n",
    "display(arr.itemsize)  # prints the size of the array\n",
    "\n"
   ]
  },
  {
   "cell_type": "markdown",
   "metadata": {},
   "source": [
    "### Explanation\n",
    "\n",
    "In the second code snippet, we import the NumPy library and create a NumPy array called `arr` with the elements `[1, 2, 3, 4, 5]`. This time, we use static typing to specify the type of `arr` as `np.ndarray`.\n",
    "\n",
    "We then display various properties of the array using the `display` function:\n",
    "\n",
    "- `arr` is printed, showing the array itself.\n",
    "- `arr.shape` is printed, displaying the shape of the array.\n",
    "- `arr.dtype` is printed, showing the data type of the array.\n",
    "- `arr.ndim` is printed, indicating the number of dimensions of the array.\n",
    "- `arr.size` is printed, revealing the number of elements in the array.\n",
    "- `arr.itemsize` is printed, indicating the item size of the array.\n",
    "\n",
    "Static typing is applied to the `arr` variable by specifying its type as `np.ndarray` to improve code clarity and maintainability.\n"
   ]
  },
  {
   "cell_type": "code",
   "execution_count": 3,
   "metadata": {},
   "outputs": [],
   "source": [
    "array : np.ndarray = np.ndarray"
   ]
  },
  {
   "cell_type": "markdown",
   "metadata": {},
   "source": [
    "## Vector Matrix"
   ]
  },
  {
   "cell_type": "code",
   "execution_count": 4,
   "metadata": {},
   "outputs": [
    {
     "data": {
      "text/plain": [
       "'Object  [[1 2 3]\\n [4 5 6]\\n [7 8 9]]'"
      ]
     },
     "metadata": {},
     "output_type": "display_data"
    },
    {
     "data": {
      "text/plain": [
       "'Shape of the object:  (3, 3)'"
      ]
     },
     "metadata": {},
     "output_type": "display_data"
    },
    {
     "data": {
      "text/plain": [
       "'Size of the array 9'"
      ]
     },
     "metadata": {},
     "output_type": "display_data"
    },
    {
     "data": {
      "text/plain": [
       "'Size of the array 4'"
      ]
     },
     "metadata": {},
     "output_type": "display_data"
    },
    {
     "data": {
      "text/plain": [
       "'Number of dimensions 2'"
      ]
     },
     "metadata": {},
     "output_type": "display_data"
    }
   ],
   "source": [
    "array : np.ndarray = np.array(\n",
    "    [\n",
    "    [1, 2, 3],\n",
    "    [4, 5, 6],\n",
    "    [7, 8, 9]])\n",
    "\n",
    "display(f\"Object  {array}\")\n",
    "display(f\"Shape of the object:  {array.shape}\")\n",
    "display(f\"Size of the array {array.size}\")\n",
    "display(f\"Size of the array {array.itemsize}\")\n",
    "display(f\"Number of dimensions {array.ndim}\")"
   ]
  },
  {
   "cell_type": "code",
   "execution_count": 8,
   "metadata": {},
   "outputs": [
    {
     "data": {
      "text/plain": [
       "array(1000)"
      ]
     },
     "metadata": {},
     "output_type": "display_data"
    },
    {
     "data": {
      "text/plain": [
       "()"
      ]
     },
     "metadata": {},
     "output_type": "display_data"
    },
    {
     "data": {
      "text/plain": [
       "1"
      ]
     },
     "metadata": {},
     "output_type": "display_data"
    },
    {
     "data": {
      "text/plain": [
       "0"
      ]
     },
     "metadata": {},
     "output_type": "display_data"
    }
   ],
   "source": []
  }
 ],
 "metadata": {
  "kernelspec": {
   "display_name": "Python 3",
   "language": "python",
   "name": "python3"
  },
  "language_info": {
   "codemirror_mode": {
    "name": "ipython",
    "version": 3
   },
   "file_extension": ".py",
   "mimetype": "text/x-python",
   "name": "python",
   "nbconvert_exporter": "python",
   "pygments_lexer": "ipython3",
   "version": "3.12.0"
  }
 },
 "nbformat": 4,
 "nbformat_minor": 2
}
