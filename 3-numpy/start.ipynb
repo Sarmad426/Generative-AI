{
 "cells": [
  {
   "cell_type": "markdown",
   "metadata": {},
   "source": [
    "# Numpy"
   ]
  },
  {
   "cell_type": "code",
   "execution_count": 51,
   "metadata": {},
   "outputs": [
    {
     "data": {
      "text/plain": [
       "array(1000)"
      ]
     },
     "metadata": {},
     "output_type": "display_data"
    },
    {
     "data": {
      "text/plain": [
       "'Shape of the array ()'"
      ]
     },
     "metadata": {},
     "output_type": "display_data"
    },
    {
     "data": {
      "text/plain": [
       "'Size of the array 1'"
      ]
     },
     "metadata": {},
     "output_type": "display_data"
    },
    {
     "data": {
      "text/plain": [
       "'Number of Dimensions 0'"
      ]
     },
     "metadata": {},
     "output_type": "display_data"
    },
    {
     "data": {
      "text/plain": [
       "'Data type of the array int32'"
      ]
     },
     "metadata": {},
     "output_type": "display_data"
    },
    {
     "data": {
      "text/plain": [
       "'No. of items in the array 4'"
      ]
     },
     "metadata": {},
     "output_type": "display_data"
    }
   ],
   "source": [
    "import numpy as np\n",
    "\n",
    "arr : np.ndarray = np.array(1000)\n",
    "\n",
    "display(arr)\n",
    "display(f\"Shape of the array {arr.shape}\")\n",
    "display(f\"Size of the array {arr.size}\")\n",
    "display(f\"Number of Dimensions {arr.ndim}\")\n",
    "display(f\"Data type of the array {arr.dtype}\")\n",
    "display(f\"No. of items in the array {arr.itemsize}\")"
   ]
  },
  {
   "cell_type": "markdown",
   "metadata": {},
   "source": [
    "## Vectors"
   ]
  },
  {
   "cell_type": "code",
   "execution_count": 52,
   "metadata": {},
   "outputs": [
    {
     "data": {
      "text/plain": [
       "5.125"
      ]
     },
     "metadata": {},
     "output_type": "display_data"
    },
    {
     "data": {
      "text/plain": [
       "12"
      ]
     },
     "metadata": {},
     "output_type": "display_data"
    }
   ],
   "source": [
    "arr : np.ndarray = np.array([1, 2, 3, 4, 5,12,8,6])\n",
    "\n",
    "# Perform mathematical operations on arrays\n",
    "arr2 : np.ndarray = arr + 5  # Add 5 to each element of the array 'arr'\n",
    "arr3 : np.ndarray = np.sin(arr) # Calculate the sine of each element of the array 'arr'\n",
    "\n",
    "# Perform array operations\n",
    "arr4 : np.ndarray = np.concatenate((arr, arr2))  # Concatenate 'arr' and 'arr2' to create a new array\n",
    "\n",
    "# Perform array computations\n",
    "mean = display(np.mean(arr))  # Calculate the mean (average) of the elements in 'arr'\n",
    "max_value = display(np.max(arr))  # Find the maximum value in 'arr'\n"
   ]
  },
  {
   "cell_type": "markdown",
   "metadata": {},
   "source": [
    "\n",
    "### Explanation\n",
    "\n",
    "In the first code snippet, we import the NumPy library as `np` and create a NumPy array called `arr` with the elements `[1, 2, 3, 4, 5]`. We then perform several operations on this array:\n",
    "\n",
    "1. `arr2` is created by adding 5 to each element of `arr`.\n",
    "2. `arr3` is created by calculating the sine of each element in `arr`.\n",
    "3. `arr4` is created by concatenating `arr` and `arr2`.\n",
    "\n",
    "Additionally, we perform some array computations:\n",
    "\n",
    "- We calculate the mean (average) of the elements in `arr` and store it in the variable `mean`.\n",
    "- We find the maximum value in `arr` and store it in the variable `max_value`.\n",
    "\n"
   ]
  },
  {
   "cell_type": "code",
   "execution_count": 53,
   "metadata": {},
   "outputs": [
    {
     "name": "stdout",
     "output_type": "stream",
     "text": [
      "[1 2 3 4 5]\n"
     ]
    },
    {
     "data": {
      "text/plain": [
       "array([1, 2, 3, 4, 5])"
      ]
     },
     "metadata": {},
     "output_type": "display_data"
    },
    {
     "data": {
      "text/plain": [
       "(5,)"
      ]
     },
     "metadata": {},
     "output_type": "display_data"
    },
    {
     "data": {
      "text/plain": [
       "dtype('int32')"
      ]
     },
     "metadata": {},
     "output_type": "display_data"
    },
    {
     "data": {
      "text/plain": [
       "1"
      ]
     },
     "metadata": {},
     "output_type": "display_data"
    },
    {
     "data": {
      "text/plain": [
       "5"
      ]
     },
     "metadata": {},
     "output_type": "display_data"
    },
    {
     "data": {
      "text/plain": [
       "4"
      ]
     },
     "metadata": {},
     "output_type": "display_data"
    }
   ],
   "source": [
    "import numpy as np\n",
    "\n",
    "arr: np.ndarray = np.array([1, 2, 3, 4, 5])\n",
    "print(arr)\n",
    "\n",
    "display(arr)  # prints the array\n",
    "display(arr.shape)  # prints the shape of the array\n",
    "display(arr.dtype)  # prints the datatype of the array\n",
    "display(arr.ndim)  # prints the number of dimensions of the array\n",
    "display(arr.size)  # prints the number of elements in the array\n",
    "display(arr.itemsize)  # prints the size of the array\n",
    "\n"
   ]
  },
  {
   "cell_type": "markdown",
   "metadata": {},
   "source": [
    "### Explanation\n",
    "\n",
    "In the second code snippet, we import the NumPy library and create a NumPy array called `arr` with the elements `[1, 2, 3, 4, 5]`. This time, we use static typing to specify the type of `arr` as `np.ndarray`.\n",
    "\n",
    "We then display various properties of the array using the `display` function:\n",
    "\n",
    "- `arr` is printed, showing the array itself.\n",
    "- `arr.shape` is printed, displaying the shape of the array.\n",
    "- `arr.dtype` is printed, showing the data type of the array.\n",
    "- `arr.ndim` is printed, indicating the number of dimensions of the array.\n",
    "- `arr.size` is printed, revealing the number of elements in the array.\n",
    "- `arr.itemsize` is printed, indicating the item size of the array.\n",
    "\n",
    "Static typing is applied to the `arr` variable by specifying its type as `np.ndarray` to improve code clarity and maintainability.\n"
   ]
  },
  {
   "cell_type": "code",
   "execution_count": 54,
   "metadata": {},
   "outputs": [],
   "source": [
    "array : np.ndarray = np.ndarray"
   ]
  },
  {
   "cell_type": "markdown",
   "metadata": {},
   "source": [
    "## Vector Matrix"
   ]
  },
  {
   "cell_type": "code",
   "execution_count": 55,
   "metadata": {},
   "outputs": [
    {
     "data": {
      "text/plain": [
       "'Object  [[1 2 3]\\n [4 5 6]\\n [7 8 9]]'"
      ]
     },
     "metadata": {},
     "output_type": "display_data"
    },
    {
     "data": {
      "text/plain": [
       "'Shape of the object:  (3, 3)'"
      ]
     },
     "metadata": {},
     "output_type": "display_data"
    },
    {
     "data": {
      "text/plain": [
       "'Size of the array 9'"
      ]
     },
     "metadata": {},
     "output_type": "display_data"
    },
    {
     "data": {
      "text/plain": [
       "'Size of the array 4'"
      ]
     },
     "metadata": {},
     "output_type": "display_data"
    },
    {
     "data": {
      "text/plain": [
       "'Number of dimensions 2'"
      ]
     },
     "metadata": {},
     "output_type": "display_data"
    }
   ],
   "source": [
    "array : np.ndarray = np.array(\n",
    "    [\n",
    "    [1, 2, 3],\n",
    "    [4, 5, 6],\n",
    "    [7, 8, 9]])\n",
    "\n",
    "display(f\"Object  {array}\")\n",
    "display(f\"Shape of the object:  {array.shape}\")\n",
    "display(f\"Size of the array {array.size}\")\n",
    "display(f\"Size of the array {array.itemsize}\")\n",
    "display(f\"Number of dimensions {array.ndim}\")"
   ]
  },
  {
   "cell_type": "markdown",
   "metadata": {},
   "source": [
    "## Numpy with NDarray typing Support"
   ]
  },
  {
   "cell_type": "code",
   "execution_count": 56,
   "metadata": {},
   "outputs": [
    {
     "data": {
      "text/plain": [
       "array([ 1,  2,  3,  4,  5,  6,  7,  8,  9, 10])"
      ]
     },
     "metadata": {},
     "output_type": "display_data"
    },
    {
     "name": "stdout",
     "output_type": "stream",
     "text": [
      "CPU times: total: 0 ns\n",
      "Wall time: 5.87 ms\n"
     ]
    },
    {
     "data": {
      "text/plain": [
       "array([ 6,  7,  8,  9, 10, 11, 12, 13, 14, 15])"
      ]
     },
     "execution_count": 56,
     "metadata": {},
     "output_type": "execute_result"
    }
   ],
   "source": [
    "%%time\n",
    "# To check the time status of program execution. \n",
    "\n",
    "from nptyping import NDArray, Shape,UInt64\n",
    "\n",
    "data : NDArray[Shape['10'],UInt64] = np.arange(1,11)\n",
    "\n",
    "display(data)\n",
    "data + 5 # Adding 5 to each element of the array"
   ]
  },
  {
   "cell_type": "code",
   "execution_count": 57,
   "metadata": {},
   "outputs": [
    {
     "data": {
      "text/plain": [
       "[6, 7, 8, 9, 10, 11, 12, 13, 14, 15]"
      ]
     },
     "execution_count": 57,
     "metadata": {},
     "output_type": "execute_result"
    }
   ],
   "source": [
    "# Doing the same thing with python list\n",
    "list1 : list[int] = [1, 2, 3, 4, 5, 6, 7, 8, 9, 10]\n",
    "[i+5 for i in list1]\n",
    "\n",
    "# Numpy makes it easy like you are performing an operation between two operands."
   ]
  },
  {
   "cell_type": "markdown",
   "metadata": {},
   "source": [
    "## numpy advanced operations vs list operations"
   ]
  },
  {
   "cell_type": "code",
   "execution_count": 58,
   "metadata": {},
   "outputs": [
    {
     "name": "stdout",
     "output_type": "stream",
     "text": [
      "[1, 2, 3, 4, 5, 6, 7, 8, 9, 10, 11, 12, 13, 14, 15, 16, 17, 18, 19, 20]\n",
      "[6, 7, 8, 9, 10, 11]\n"
     ]
    },
    {
     "ename": "TypeError",
     "evalue": "can only assign an iterable",
     "output_type": "error",
     "traceback": [
      "\u001b[1;31m---------------------------------------------------------------------------\u001b[0m",
      "\u001b[1;31mTypeError\u001b[0m                                 Traceback (most recent call last)",
      "\u001b[1;32ms:\\panaverse\\Generative-AI\\3-numpy\\start.ipynb Cell 15\u001b[0m line \u001b[0;36m5\n\u001b[0;32m      <a href='vscode-notebook-cell:/s%3A/panaverse/Generative-AI/3-numpy/start.ipynb#X20sZmlsZQ%3D%3D?line=2'>3</a>\u001b[0m \u001b[39mprint\u001b[39m(data)\n\u001b[0;32m      <a href='vscode-notebook-cell:/s%3A/panaverse/Generative-AI/3-numpy/start.ipynb#X20sZmlsZQ%3D%3D?line=3'>4</a>\u001b[0m \u001b[39mprint\u001b[39m(data[\u001b[39m5\u001b[39m:\u001b[39m11\u001b[39m])\n\u001b[1;32m----> <a href='vscode-notebook-cell:/s%3A/panaverse/Generative-AI/3-numpy/start.ipynb#X20sZmlsZQ%3D%3D?line=4'>5</a>\u001b[0m data[\u001b[39m5\u001b[39;49m:\u001b[39m11\u001b[39;49m] \u001b[39m=\u001b[39m\u001b[39m100\u001b[39m\n\u001b[0;32m      <a href='vscode-notebook-cell:/s%3A/panaverse/Generative-AI/3-numpy/start.ipynb#X20sZmlsZQ%3D%3D?line=6'>7</a>\u001b[0m \u001b[39m# This operation cannot be performed in python list.\u001b[39;00m\n",
      "\u001b[1;31mTypeError\u001b[0m: can only assign an iterable"
     ]
    }
   ],
   "source": [
    "data : list[int] = list(range(1,21))\n",
    "\n",
    "print(data)\n",
    "print(data[5:11])\n",
    "data[5:11] =100\n",
    "\n",
    "# This operation cannot be performed in python list."
   ]
  },
  {
   "cell_type": "code",
   "execution_count": null,
   "metadata": {},
   "outputs": [
    {
     "name": "stdout",
     "output_type": "stream",
     "text": [
      "[ 1  2  3  4  5  6  7  8  9 10 11 12 13 14 15 16 17 18 19 20]\n",
      "[ 6  7  8  9 10 11]\n",
      "[  1   2   3   4   5 100 100 100 100 100 100  12  13  14  15  16  17  18\n",
      "  19  20]\n"
     ]
    }
   ],
   "source": [
    "array : NDArray[Shape['20'],Any] = np.arange(1,21)\n",
    "\n",
    "print(array)\n",
    "print(array[5:11])\n",
    "array[5:11] = 100\n",
    "print(array)"
   ]
  },
  {
   "cell_type": "markdown",
   "metadata": {},
   "source": [
    "## Boolean Search numpy"
   ]
  },
  {
   "cell_type": "code",
   "execution_count": null,
   "metadata": {},
   "outputs": [
    {
     "data": {
      "text/plain": [
       "array([False, False,  True,  True])"
      ]
     },
     "execution_count": 69,
     "metadata": {},
     "output_type": "execute_result"
    }
   ],
   "source": [
    "state_bank : NDArray[Shape['10'],UInt64] = np.array([1,7,8,10])\n",
    "\n",
    "state_bank % 2 ==0"
   ]
  },
  {
   "cell_type": "code",
   "execution_count": null,
   "metadata": {},
   "outputs": [
    {
     "data": {
      "text/plain": [
       "array([ 8, 10])"
      ]
     },
     "execution_count": 70,
     "metadata": {},
     "output_type": "execute_result"
    }
   ],
   "source": [
    "state_bank : NDArray[Shape['10'],UInt64] = np.array([1,7,8,10])\n",
    "\n",
    "state_bank[state_bank % 2 ==0]"
   ]
  },
  {
   "cell_type": "markdown",
   "metadata": {},
   "source": [
    "## Numpy 1D functions"
   ]
  },
  {
   "cell_type": "code",
   "execution_count": null,
   "metadata": {},
   "outputs": [
    {
     "data": {
      "text/plain": [
       "array([1, 7])"
      ]
     },
     "execution_count": 23,
     "metadata": {},
     "output_type": "execute_result"
    }
   ],
   "source": [
    "from nptyping import Bool\n",
    "\n",
    "\n",
    "state_bank : NDArray[Shape['10'],UInt64] = np.array([1,2,5,7,10])\n",
    "\n",
    "select : NDArray[Shape['10'],Bool] = np.array([True, False, False,True,False])\n",
    "\n",
    "state_bank[select]"
   ]
  },
  {
   "cell_type": "code",
   "execution_count": null,
   "metadata": {},
   "outputs": [
    {
     "data": {
      "text/plain": [
       "array([ 2,  4,  8, 12, 16])"
      ]
     },
     "execution_count": 26,
     "metadata": {},
     "output_type": "execute_result"
    }
   ],
   "source": [
    "state_bank :NDArray[Shape['10'],UInt64] = np.array([1,2,3,4,8,12,7,16])\n",
    "\n",
    "state_bank[state_bank % 2 ==0]"
   ]
  },
  {
   "cell_type": "markdown",
   "metadata": {},
   "source": [
    "## Random number Numpy"
   ]
  },
  {
   "cell_type": "code",
   "execution_count": null,
   "metadata": {},
   "outputs": [
    {
     "data": {
      "text/plain": [
       "array([12, 28, 46, 77, 53])"
      ]
     },
     "metadata": {},
     "output_type": "display_data"
    },
    {
     "data": {
      "text/plain": [
       "array([56, 35, 76, 31, 24, 62, 85, 92, 15, 54, 50, 48, 25, 40, 78, 28, 41,\n",
       "       25, 38, 59])"
      ]
     },
     "metadata": {},
     "output_type": "display_data"
    }
   ],
   "source": [
    "state_bank : NDArray[Shape['10'],UInt64] = np.array([12,28,46,77,53])\n",
    "\n",
    "ubl_bank : NDArray[Shape['10'],UInt64] = np.random.randint(1,100,20)\n",
    "\n",
    "display(state_bank)\n",
    "display(ubl_bank)"
   ]
  },
  {
   "cell_type": "code",
   "execution_count": null,
   "metadata": {},
   "outputs": [
    {
     "data": {
      "text/plain": [
       "array([12, 28, 46, 77, 53])"
      ]
     },
     "metadata": {},
     "output_type": "display_data"
    },
    {
     "data": {
      "text/plain": [
       "array([56, 35, 76, 31, 24, 62, 85, 92, 15, 54, 50, 48, 25, 40, 78, 28, 41,\n",
       "       25, 38, 59])"
      ]
     },
     "metadata": {},
     "output_type": "display_data"
    },
    {
     "data": {
      "text/plain": [
       "array([False,  True, False, False, False])"
      ]
     },
     "execution_count": 44,
     "metadata": {},
     "output_type": "execute_result"
    }
   ],
   "source": [
    "display(state_bank)\n",
    "display(ubl_bank)\n",
    "\n",
    "#        5 items       search 20 items\n",
    "np.in1d(state_bank,ubl_bank) "
   ]
  },
  {
   "cell_type": "markdown",
   "metadata": {},
   "source": [
    "#### Code Explanation\n",
    "Test whether each element of a 1-D array is also present in a second array.\n",
    "\n",
    "Returns a boolean array the same length as ar1 that is True where an element of ar1 is in ar2 and False otherwise."
   ]
  },
  {
   "cell_type": "code",
   "execution_count": null,
   "metadata": {},
   "outputs": [
    {
     "data": {
      "text/plain": [
       "array([28])"
      ]
     },
     "execution_count": 45,
     "metadata": {},
     "output_type": "execute_result"
    }
   ],
   "source": [
    "np.intersect1d(state_bank,ubl_bank)\n",
    "\n",
    "# Find the intersection of two arrays.\n",
    "\n",
    "# Return the sorted, unique values that are in both of the input arrays."
   ]
  },
  {
   "cell_type": "code",
   "execution_count": null,
   "metadata": {},
   "outputs": [
    {
     "data": {
      "text/plain": [
       "array([  1,   3,   4,   5, 120])"
      ]
     },
     "metadata": {},
     "output_type": "display_data"
    },
    {
     "data": {
      "text/plain": [
       "array([  6,   3,   2,   5, 100])"
      ]
     },
     "metadata": {},
     "output_type": "display_data"
    },
    {
     "data": {
      "text/plain": [
       "array([  6,   3,   4,   5, 120])"
      ]
     },
     "execution_count": 50,
     "metadata": {},
     "output_type": "execute_result"
    }
   ],
   "source": [
    "arr1 : NDArray[Shape[\"5\"],UInt64] = np.array([1,3,4,5,120])\n",
    "arr2 : NDArray[Shape[\"5\"],UInt64] = np.array([6,3,2,5,100])\n",
    "\n",
    "display(arr1)\n",
    "display(arr2)\n",
    "np.where(arr1 > arr2,arr1,arr2)"
   ]
  },
  {
   "cell_type": "markdown",
   "metadata": {},
   "source": [
    "#### Code Explanation\n",
    "\n",
    "`np.where` compares the values of `arr1` and `arr2` and selects the maximum values element-wise."
   ]
  },
  {
   "cell_type": "markdown",
   "metadata": {},
   "source": [
    "## Create Numpy Arrays 2D arrays"
   ]
  },
  {
   "cell_type": "code",
   "execution_count": 59,
   "metadata": {},
   "outputs": [
    {
     "name": "stdout",
     "output_type": "stream",
     "text": [
      "[[1 2 3]\n",
      " [4 5 6]]\n",
      "[[1 2]\n",
      " [4 5]]\n",
      "[['A']\n",
      " ['B']]\n"
     ]
    }
   ],
   "source": [
    "from typing import Any\n",
    "a : NDArray[Shape[\"Size, Size\"], Any] = np.array([[1, 2, 3],\n",
    "                                                      [4, 5, 6]])\n",
    "print(a)\n",
    "\n",
    "a : NDArray[Shape[\"Size, Size\"], Any] = np.array([[1, 2],\n",
    "                                                      [4, 5]])\n",
    "print(a)\n",
    "\n",
    "a : NDArray[Shape[\"Size, Size\"], Any] = np.array([[\"A\"],\n",
    "                                                    [\"B\"]])\n",
    "print(a)"
   ]
  },
  {
   "cell_type": "markdown",
   "metadata": {},
   "source": [
    "### Explanation\n",
    "\n",
    "`NDArray[Shape[\"Size, Size\"], Any]`\n",
    "\n",
    "`[\"Size\", \"Size]` means that it can have any type of size. We are not explicitly describing this.\n",
    "\n",
    "**Alternatively**\n",
    "\n",
    "We could have `NDArray[Shape[\"*\", \"*\"], Any]`\n",
    "\n",
    "we can use a `*` to tell that it has any size."
   ]
  },
  {
   "cell_type": "code",
   "execution_count": 60,
   "metadata": {},
   "outputs": [
    {
     "name": "stdout",
     "output_type": "stream",
     "text": [
      "[[1 2 3]\n",
      " [4 5 6]]\n",
      "[[1 2]\n",
      " [4 5]]\n",
      "[['A']\n",
      " ['B']]\n"
     ]
    }
   ],
   "source": [
    "a : NDArray[Shape[\"*, *\"], Any] = np.array([[1, 2, 3],\n",
    "                                                      [4, 5, 6]])\n",
    "print(a)\n",
    "\n",
    "a : NDArray[Shape[\"*, *\"], Any] = np.array([[1, 2],\n",
    "                                                      [4, 5]])\n",
    "print(a)\n",
    "\n",
    "a : NDArray[Shape[\"*, *\"], Any] = np.array([[\"A\"],\n",
    "                                                    [\"B\"]])\n",
    "print(a)"
   ]
  },
  {
   "cell_type": "code",
   "execution_count": 61,
   "metadata": {},
   "outputs": [
    {
     "name": "stdout",
     "output_type": "stream",
     "text": [
      "Name            Shape            Bytes            Type\n",
      "===========================================================\n",
      "\n",
      "__              10               40               int32\n",
      "___             5                20               int32\n",
      "arr             5                20               int32\n",
      "arr2            8                32               int32\n",
      "arr3            8                64               float64\n",
      "arr4            16               64               int32\n",
      "array           3 x 3            36               int32\n",
      "_6              10               40               int32\n",
      "state_bank      5                20               int32\n",
      "select          5                5                bool\n",
      "_16             2                8                int32\n",
      "_18             2                8                int32\n",
      "_20             2                8                int32\n",
      "_21             2                8                int32\n",
      "_22             2                8                int32\n",
      "_23             2                8                int32\n",
      "_24             8                8                bool\n",
      "_25             5                20               int32\n",
      "_26             5                20               int32\n",
      "ubl_bank        20               80               int32\n",
      "_33             5                20               int32\n",
      "_34             20               80               int32\n",
      "_36             5                5                bool\n",
      "_37             5                5                bool\n",
      "_38             5                5                bool\n",
      "_39             5                5                bool\n",
      "_40             5                5                bool\n",
      "_41             5                5                bool\n",
      "_43             5                5                bool\n",
      "_44             5                5                bool\n",
      "_45             1                4                int32\n",
      "x               5                20               int32\n",
      "y               5                20               int32\n",
      "_46             5                20               int32\n",
      "_48             5                20               int32\n",
      "arr1            5                20               int32\n",
      "_49             5                20               int32\n",
      "_50 (___)       5                20               int32\n",
      "_56 (__)        10               40               int32\n",
      "a               2 x 1            8                str32\n",
      "\n",
      "Upper bound on total bytes  =       789\n"
     ]
    }
   ],
   "source": [
    "np.who()"
   ]
  },
  {
   "cell_type": "markdown",
   "metadata": {},
   "source": [
    "## np.who()\n",
    "\n",
    "Print the NumPy arrays in the given dictionary.\n",
    "\n",
    "If there is no dictionary passed in or vardict is None then returns NumPy arrays in the globals() dictionary (all NumPy arrays in the namespace)."
   ]
  },
  {
   "cell_type": "markdown",
   "metadata": {},
   "source": [
    "## Any Dimensional array"
   ]
  },
  {
   "cell_type": "code",
   "execution_count": 62,
   "metadata": {},
   "outputs": [
    {
     "name": "stdout",
     "output_type": "stream",
     "text": [
      "[1 2 3 4]\n",
      "[1 2 3 4 5 6 7 8 9]\n"
     ]
    }
   ],
   "source": [
    "a : NDArray[Shape[\"Size\"],Any] = np.arange(1,5)\n",
    "print(a)\n",
    "a : NDArray[Shape[\"Size\"],Any] = np.arange(1,10)\n",
    "print(a)"
   ]
  },
  {
   "cell_type": "code",
   "execution_count": 63,
   "metadata": {},
   "outputs": [
    {
     "name": "stdout",
     "output_type": "stream",
     "text": [
      "[[0 1 2]\n",
      " [3 4 5]\n",
      " [6 7 8]]\n",
      "[[ 0  1  2]\n",
      " [ 3  4  5]\n",
      " [ 6  7  8]\n",
      " [ 9 10 11]\n",
      " [12 13 14]]\n"
     ]
    }
   ],
   "source": [
    "a : NDArray[Shape[\"Size, Size\"],Any] = np.arange(3*3).reshape(3,3)\n",
    "print(a)\n",
    "a : NDArray[Shape[\"Size, Size\"],Any] = np.arange(5*3).reshape(5,3)\n",
    "print(a)"
   ]
  },
  {
   "cell_type": "code",
   "execution_count": 65,
   "metadata": {},
   "outputs": [
    {
     "name": "stdout",
     "output_type": "stream",
     "text": [
      "[[[ 0  1  2]\n",
      "  [ 3  4  5]\n",
      "  [ 6  7  8]]\n",
      "\n",
      " [[ 9 10 11]\n",
      "  [12 13 14]\n",
      "  [15 16 17]]]\n",
      "=======\n"
     ]
    },
    {
     "data": {
      "text/plain": [
       "array([[[ 0,  1],\n",
       "        [ 2,  3]],\n",
       "\n",
       "       [[ 4,  5],\n",
       "        [ 6,  7]],\n",
       "\n",
       "       [[ 8,  9],\n",
       "        [10, 11]],\n",
       "\n",
       "       [[12, 13],\n",
       "        [14, 15]],\n",
       "\n",
       "       [[16, 17],\n",
       "        [18, 19]]])"
      ]
     },
     "execution_count": 65,
     "metadata": {},
     "output_type": "execute_result"
    }
   ],
   "source": [
    "a : NDArray[Shape[\"Size, Size, Size\"],Any] = np.arange(2*3*3).reshape(2,3,3)\n",
    "print(a)\n",
    "print('=======')\n",
    "a : NDArray[Shape[\"Size, Size, Size\"],Any] = np.arange(5*2*2).reshape(5,2,2)\n",
    "a"
   ]
  },
  {
   "cell_type": "code",
   "execution_count": 66,
   "metadata": {},
   "outputs": [
    {
     "data": {
      "text/plain": [
       "array([ 0,  2,  4,  6,  8, 10, 12, 14, 16, 18])"
      ]
     },
     "execution_count": 66,
     "metadata": {},
     "output_type": "execute_result"
    }
   ],
   "source": [
    "a : NDArray[Shape[\"Size, Size, Size\"],Any] = np.arange(5*2*2).reshape(5,2,2)\n",
    "a[a%2==0]"
   ]
  }
 ],
 "metadata": {
  "kernelspec": {
   "display_name": "Python 3",
   "language": "python",
   "name": "python3"
  },
  "language_info": {
   "codemirror_mode": {
    "name": "ipython",
    "version": 3
   },
   "file_extension": ".py",
   "mimetype": "text/x-python",
   "name": "python",
   "nbconvert_exporter": "python",
   "pygments_lexer": "ipython3",
   "version": "3.12.0"
  }
 },
 "nbformat": 4,
 "nbformat_minor": 2
}
