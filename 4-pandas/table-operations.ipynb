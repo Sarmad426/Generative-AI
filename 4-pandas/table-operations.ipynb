{
 "cells": [
  {
   "cell_type": "code",
   "execution_count": 1,
   "metadata": {},
   "outputs": [],
   "source": [
    "import pandas as pd\n",
    "import pandera as pa\n",
    "import numpy as np\n",
    "from nptyping import NDArray, Shape, Int64"
   ]
  },
  {
   "cell_type": "markdown",
   "metadata": {},
   "source": [
    "## Pandas DataFrame operations\n",
    "\n",
    "- add new column\n",
    "- - on one column\n",
    "- - more than one column\n",
    "- delete column\n",
    "- change data type of column\n",
    "- map\n",
    "- apply\n",
    "- - on one column\n",
    "- - more than one column"
   ]
  },
  {
   "cell_type": "code",
   "execution_count": 18,
   "metadata": {},
   "outputs": [
    {
     "data": {
      "text/plain": [
       "array([54, 52, 62, 31, 76, 20, 26, 35, 65, 50, 76, 70, 40, 75, 27, 30, 58,\n",
       "       60, 76, 53, 69, 29, 45, 38, 56, 33, 66, 23, 75, 59, 22, 20, 73, 77,\n",
       "       21, 60, 52, 41, 62, 78, 33, 37, 75, 55, 31, 48, 27, 60, 21, 41, 64,\n",
       "       65, 26, 53, 63, 30, 72, 26, 27, 56, 22, 55, 25, 66, 32, 69, 69, 47,\n",
       "       55, 65, 38, 42, 31, 20, 48, 50, 69, 72, 36, 38, 67, 71, 74, 28, 46,\n",
       "       72, 24, 39, 60, 60, 36, 76, 25, 44, 45, 26, 57, 29, 31, 63])"
      ]
     },
     "execution_count": 18,
     "metadata": {},
     "output_type": "execute_result"
    }
   ],
   "source": [
    "total : int = 100\n",
    "s1 : NDArray[Shape[str(total)],Int64] = np.random.randint(20,80,total)\n",
    "s1"
   ]
  },
  {
   "cell_type": "markdown",
   "metadata": {},
   "source": [
    "### Create a CSV file using DataFrame"
   ]
  },
  {
   "cell_type": "code",
   "execution_count": 20,
   "metadata": {},
   "outputs": [],
   "source": [
    "s1 : pd.Series = pd.Series([1,2,3,4,5],name='Student Id')\n",
    "s2 : pd.Series = pd.Series([10,20,30,40,50],name='Score')\n",
    "s3 : pd.Series = pd.Series([\"Sarmad\",\"Hammad\",'Akmal','Fakhir','Mustansar'],name='Student Name')\n",
    "\n",
    "df1 : pd.DataFrame = pd.DataFrame({'Student Id':s1,'Student Name':s2,'Score':s3})\n",
    "\n",
    "df1.to_csv('student.csv',index = False)"
   ]
  }
 ],
 "metadata": {
  "kernelspec": {
   "display_name": "Python 3",
   "language": "python",
   "name": "python3"
  },
  "language_info": {
   "codemirror_mode": {
    "name": "ipython",
    "version": 3
   },
   "file_extension": ".py",
   "mimetype": "text/x-python",
   "name": "python",
   "nbconvert_exporter": "python",
   "pygments_lexer": "ipython3",
   "version": "3.12.0"
  }
 },
 "nbformat": 4,
 "nbformat_minor": 2
}
