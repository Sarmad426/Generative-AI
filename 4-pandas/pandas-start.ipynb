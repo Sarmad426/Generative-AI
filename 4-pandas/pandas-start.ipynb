{
 "cells": [
  {
   "cell_type": "markdown",
   "metadata": {},
   "source": [
    "# Pandas"
   ]
  },
  {
   "cell_type": "code",
   "execution_count": 1,
   "metadata": {},
   "outputs": [],
   "source": [
    "import pandas as pd\n",
    "import pandera as pa"
   ]
  },
  {
   "cell_type": "code",
   "execution_count": 2,
   "metadata": {},
   "outputs": [
    {
     "data": {
      "text/plain": [
       "0    1\n",
       "1    2\n",
       "2    3\n",
       "3    4\n",
       "4    5\n",
       "dtype: int64"
      ]
     },
     "execution_count": 2,
     "metadata": {},
     "output_type": "execute_result"
    }
   ],
   "source": [
    "# pandas Series using list\n",
    "s1 : pd.Series = pd.Series([1, 2, 3,4,5])\n",
    "s1"
   ]
  },
  {
   "cell_type": "code",
   "execution_count": 3,
   "metadata": {},
   "outputs": [
    {
     "data": {
      "text/plain": [
       "name               Sarmad\n",
       "email    sarmad@gmail.com\n",
       "age                    19\n",
       "dtype: object"
      ]
     },
     "execution_count": 3,
     "metadata": {},
     "output_type": "execute_result"
    }
   ],
   "source": [
    "# Series using Dictionary\n",
    "s1 : pd.Series = pd.Series(\n",
    "    {\n",
    "        'name':'Sarmad',\n",
    "        'email':'sarmad@gmail.com',\n",
    "        'age':19\n",
    "     }\n",
    "    )\n",
    "\n",
    "s1"
   ]
  },
  {
   "cell_type": "code",
   "execution_count": 4,
   "metadata": {},
   "outputs": [
    {
     "data": {
      "text/plain": [
       "a    1\n",
       "b    2\n",
       "c    3\n",
       "d    4\n",
       "dtype: int64"
      ]
     },
     "execution_count": 4,
     "metadata": {},
     "output_type": "execute_result"
    }
   ],
   "source": [
    "values : list[int] = [1, 2, 3, 4]\n",
    "index : list[str] = ['a', 'b', 'c','d']\n",
    "\n",
    "s1 : pd.Series = pd.Series(values,index=index)\n",
    "s1"
   ]
  },
  {
   "cell_type": "code",
   "execution_count": 5,
   "metadata": {},
   "outputs": [
    {
     "data": {
      "text/plain": [
       "a  e    1\n",
       "b  f    2\n",
       "c  g    3\n",
       "d  h    4\n",
       "Name: Student Data, dtype: int64"
      ]
     },
     "execution_count": 5,
     "metadata": {},
     "output_type": "execute_result"
    }
   ],
   "source": [
    "values : list[int] = [1, 2, 3, 4]\n",
    "index : list[list[str]] = [['a', 'b', 'c','d'],['e','f','g','h']]\n",
    "\n",
    "s1 : pd.Series = pd.Series(values,index=index,name=\"Student Data\")\n",
    "s1\n",
    "\n",
    "# The name can be anything."
   ]
  },
  {
   "cell_type": "code",
   "execution_count": 6,
   "metadata": {},
   "outputs": [
    {
     "data": {
      "text/plain": [
       "0              Sarmad\n",
       "1    sarmad@gmail.com\n",
       "2                  19\n",
       "dtype: object"
      ]
     },
     "execution_count": 6,
     "metadata": {},
     "output_type": "execute_result"
    }
   ],
   "source": [
    "# Series using python sets\n",
    "series: pd.Series = pd.Series(('Sarmad','sarmad@gmail.com',19))\n",
    "series"
   ]
  },
  {
   "cell_type": "code",
   "execution_count": 7,
   "metadata": {},
   "outputs": [
    {
     "name": "stdout",
     "output_type": "stream",
     "text": [
      "   column1  column2  column3\n",
      "0        1     -1.3  value_1\n",
      "1        4     -1.4  value_2\n",
      "2        0     -2.9  value_3\n",
      "3       10    -10.1  value_2\n",
      "4        9    -20.4  value_1\n"
     ]
    }
   ],
   "source": [
    "# data to validate\n",
    "df = pd.DataFrame({\n",
    "    \"column1\": [1, 4, 0, 10, 9],\n",
    "    \"column2\": [-1.3, -1.4, -2.9, -10.1, -20.4],\n",
    "    \"column3\": [\"value_1\", \"value_2\", \"value_3\", \"value_2\", \"value_1\"],\n",
    "})\n",
    "\n",
    "# define schema\n",
    "schema = pa.DataFrameSchema({\n",
    "    \"column1\": pa.Column(int, checks=pa.Check.le(10)),\n",
    "    \"column2\": pa.Column(float, checks=pa.Check.lt(-1.2)),\n",
    "    \"column3\": pa.Column(str, checks=[\n",
    "        pa.Check.str_startswith(\"value_\"),\n",
    "        # define custom checks as functions that take a series as input and\n",
    "        # outputs a boolean or boolean Series\n",
    "        pa.Check(lambda s: s.str.split(\"_\", expand=True).shape[1] == 2)\n",
    "    ]),\n",
    "})\n",
    "\n",
    "validated_df = schema(df)\n",
    "print(validated_df)"
   ]
  },
  {
   "cell_type": "markdown",
   "metadata": {},
   "source": [
    "## DataFrame"
   ]
  },
  {
   "cell_type": "code",
   "execution_count": 8,
   "metadata": {},
   "outputs": [
    {
     "data": {
      "text/html": [
       "<div>\n",
       "<style scoped>\n",
       "    .dataframe tbody tr th:only-of-type {\n",
       "        vertical-align: middle;\n",
       "    }\n",
       "\n",
       "    .dataframe tbody tr th {\n",
       "        vertical-align: top;\n",
       "    }\n",
       "\n",
       "    .dataframe thead th {\n",
       "        text-align: right;\n",
       "    }\n",
       "</style>\n",
       "<table border=\"1\" class=\"dataframe\">\n",
       "  <thead>\n",
       "    <tr style=\"text-align: right;\">\n",
       "      <th></th>\n",
       "      <th>Student Id</th>\n",
       "      <th>Student Score</th>\n",
       "      <th>Student name</th>\n",
       "    </tr>\n",
       "  </thead>\n",
       "  <tbody>\n",
       "    <tr>\n",
       "      <th>0</th>\n",
       "      <td>1</td>\n",
       "      <td>10</td>\n",
       "      <td>Sarmad</td>\n",
       "    </tr>\n",
       "    <tr>\n",
       "      <th>1</th>\n",
       "      <td>2</td>\n",
       "      <td>20</td>\n",
       "      <td>Hammad</td>\n",
       "    </tr>\n",
       "    <tr>\n",
       "      <th>2</th>\n",
       "      <td>3</td>\n",
       "      <td>30</td>\n",
       "      <td>Ali</td>\n",
       "    </tr>\n",
       "    <tr>\n",
       "      <th>3</th>\n",
       "      <td>4</td>\n",
       "      <td>40</td>\n",
       "      <td>Akmal</td>\n",
       "    </tr>\n",
       "    <tr>\n",
       "      <th>4</th>\n",
       "      <td>5</td>\n",
       "      <td>50</td>\n",
       "      <td>Jawad</td>\n",
       "    </tr>\n",
       "  </tbody>\n",
       "</table>\n",
       "</div>"
      ],
      "text/plain": [
       "   Student Id  Student Score Student name\n",
       "0           1             10       Sarmad\n",
       "1           2             20       Hammad\n",
       "2           3             30          Ali\n",
       "3           4             40        Akmal\n",
       "4           5             50        Jawad"
      ]
     },
     "execution_count": 8,
     "metadata": {},
     "output_type": "execute_result"
    }
   ],
   "source": [
    "# create a dictionary with the three series\n",
    "data = {'Student Id': pd.Series([1, 2, 3, 4, 5], name=\"Student Id\"),\n",
    "        'Student Score': pd.Series([10, 20, 30, 40, 50], name=\"Student Score\"),\n",
    "        'Student name': pd.Series([\"Sarmad\", \"Hammad\", 'Ali', 'Akmal', 'Jawad'], name=\"Student name\")}\n",
    "\n",
    "# create a dataframe from the dictionary\n",
    "df = pd.DataFrame(data)\n",
    "\n",
    "# display the dataframe in a Jupyter notebook\n",
    "df\n"
   ]
  },
  {
   "cell_type": "code",
   "execution_count": 19,
   "metadata": {},
   "outputs": [
    {
     "ename": "TypeError",
     "evalue": "'DataFrame' object is not callable",
     "output_type": "error",
     "traceback": [
      "\u001b[1;31m---------------------------------------------------------------------------\u001b[0m",
      "\u001b[1;31mTypeError\u001b[0m                                 Traceback (most recent call last)",
      "\u001b[1;32ms:\\panaverse\\Generative-AI\\4-pandas\\pandas-start.ipynb Cell 11\u001b[0m line \u001b[0;36m5\n\u001b[0;32m      <a href='vscode-notebook-cell:/s%3A/panaverse/Generative-AI/4-pandas/pandas-start.ipynb#X13sZmlsZQ%3D%3D?line=1'>2</a>\u001b[0m s2 : pd\u001b[39m.\u001b[39mSeries \u001b[39m=\u001b[39m pd\u001b[39m.\u001b[39mSeries([\u001b[39m10\u001b[39m, \u001b[39m20\u001b[39m, \u001b[39m30\u001b[39m,\u001b[39m40\u001b[39m,\u001b[39m50\u001b[39m],name\u001b[39m=\u001b[39m\u001b[39m\"\u001b[39m\u001b[39mStudent Score\u001b[39m\u001b[39m\"\u001b[39m)\n\u001b[0;32m      <a href='vscode-notebook-cell:/s%3A/panaverse/Generative-AI/4-pandas/pandas-start.ipynb#X13sZmlsZQ%3D%3D?line=2'>3</a>\u001b[0m s3 : pd\u001b[39m.\u001b[39mSeries \u001b[39m=\u001b[39m pd\u001b[39m.\u001b[39mSeries([\u001b[39m\"\u001b[39m\u001b[39mSarmad\u001b[39m\u001b[39m\"\u001b[39m,\u001b[39m\"\u001b[39m\u001b[39mHammad\u001b[39m\u001b[39m\"\u001b[39m,\u001b[39m'\u001b[39m\u001b[39mAli\u001b[39m\u001b[39m'\u001b[39m,\u001b[39m'\u001b[39m\u001b[39mAkmal\u001b[39m\u001b[39m'\u001b[39m,\u001b[39m'\u001b[39m\u001b[39mJawad\u001b[39m\u001b[39m'\u001b[39m],name\u001b[39m=\u001b[39m\u001b[39m\"\u001b[39m\u001b[39mStudent name\u001b[39m\u001b[39m\"\u001b[39m)\n\u001b[1;32m----> <a href='vscode-notebook-cell:/s%3A/panaverse/Generative-AI/4-pandas/pandas-start.ipynb#X13sZmlsZQ%3D%3D?line=4'>5</a>\u001b[0m df1 \u001b[39m=\u001b[39m pd\u001b[39m.\u001b[39mDataFrame \u001b[39m=\u001b[39m pd\u001b[39m.\u001b[39;49mDataFrame({\u001b[39m\"\u001b[39;49m\u001b[39mStudent Id\u001b[39;49m\u001b[39m\"\u001b[39;49m:s1,\u001b[39m\"\u001b[39;49m\u001b[39mscore\u001b[39;49m\u001b[39m\"\u001b[39;49m:s2,\u001b[39m\"\u001b[39;49m\u001b[39mstudent name\u001b[39;49m\u001b[39m\"\u001b[39;49m:s3})\n\u001b[0;32m      <a href='vscode-notebook-cell:/s%3A/panaverse/Generative-AI/4-pandas/pandas-start.ipynb#X13sZmlsZQ%3D%3D?line=6'>7</a>\u001b[0m df1\n",
      "\u001b[1;31mTypeError\u001b[0m: 'DataFrame' object is not callable"
     ]
    }
   ],
   "source": [
    "s1 : pd.Series = pd.Series([1, 2, 3,4,5],name=\"Student Id\")\n",
    "s2 : pd.Series = pd.Series([10, 20, 30,40,50],name=\"Student Score\")\n",
    "s3 : pd.Series = pd.Series([\"Sarmad\",\"Hammad\",'Ali','Akmal','Jawad'],name=\"Student name\")\n",
    "\n",
    "df1 = pd.DataFrame = pd.DataFrame({\"Student Id\":s1,\"score\":s2,\"student name\":s3})\n",
    "\n",
    "df1\n"
   ]
  },
  {
   "cell_type": "code",
   "execution_count": 18,
   "metadata": {},
   "outputs": [
    {
     "ename": "TypeError",
     "evalue": "'DataFrame' object is not callable",
     "output_type": "error",
     "traceback": [
      "\u001b[1;31m---------------------------------------------------------------------------\u001b[0m",
      "\u001b[1;31mTypeError\u001b[0m                                 Traceback (most recent call last)",
      "\u001b[1;32ms:\\panaverse\\Generative-AI\\4-pandas\\pandas-start.ipynb Cell 12\u001b[0m line \u001b[0;36m8\n\u001b[0;32m      <a href='vscode-notebook-cell:/s%3A/panaverse/Generative-AI/4-pandas/pandas-start.ipynb#X15sZmlsZQ%3D%3D?line=3'>4</a>\u001b[0m \u001b[39mimport\u001b[39;00m \u001b[39mnumpy\u001b[39;00m \u001b[39mas\u001b[39;00m \u001b[39mnp\u001b[39;00m\n\u001b[0;32m      <a href='vscode-notebook-cell:/s%3A/panaverse/Generative-AI/4-pandas/pandas-start.ipynb#X15sZmlsZQ%3D%3D?line=5'>6</a>\u001b[0m data : NDArray[Shape[\u001b[39m'\u001b[39m\u001b[39m10,10\u001b[39m\u001b[39m'\u001b[39m],Any] \u001b[39m=\u001b[39m np\u001b[39m.\u001b[39marange(\u001b[39m10\u001b[39m\u001b[39m*\u001b[39m\u001b[39m10\u001b[39m)\u001b[39m.\u001b[39mreshape(\u001b[39m10\u001b[39m,\u001b[39m10\u001b[39m)\n\u001b[1;32m----> <a href='vscode-notebook-cell:/s%3A/panaverse/Generative-AI/4-pandas/pandas-start.ipynb#X15sZmlsZQ%3D%3D?line=7'>8</a>\u001b[0m df: pd\u001b[39m.\u001b[39mDataFrame \u001b[39m=\u001b[39m pd\u001b[39m.\u001b[39;49mDataFrame(data,columns\u001b[39m=\u001b[39;49mdata)\n\u001b[0;32m     <a href='vscode-notebook-cell:/s%3A/panaverse/Generative-AI/4-pandas/pandas-start.ipynb#X15sZmlsZQ%3D%3D?line=9'>10</a>\u001b[0m df\n",
      "\u001b[1;31mTypeError\u001b[0m: 'DataFrame' object is not callable"
     ]
    }
   ],
   "source": [
    "from nptyping import Shape\n",
    "from nptyping import NDArray, Int64\n",
    "from typing import Any\n",
    "import numpy as np\n",
    "\n",
    "data : NDArray[Shape['10,10'],Any] = np.arange(10*10).reshape(10,10)\n",
    "\n",
    "df: pd.DataFrame = pd.DataFrame(data,columns=data)\n",
    "\n",
    "df"
   ]
  }
 ],
 "metadata": {
  "kernelspec": {
   "display_name": "Python 3",
   "language": "python",
   "name": "python3"
  },
  "language_info": {
   "codemirror_mode": {
    "name": "ipython",
    "version": 3
   },
   "file_extension": ".py",
   "mimetype": "text/x-python",
   "name": "python",
   "nbconvert_exporter": "python",
   "pygments_lexer": "ipython3",
   "version": "3.12.0"
  }
 },
 "nbformat": 4,
 "nbformat_minor": 2
}
